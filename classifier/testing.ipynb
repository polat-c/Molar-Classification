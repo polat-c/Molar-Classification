{
 "cells": [
  {
   "cell_type": "code",
   "execution_count": 15,
   "metadata": {},
   "outputs": [],
   "source": [
    "import numpy as np\n",
    "import pandas as pd\n",
    "import torch\n",
    "import yaml\n",
    "\n",
    "import torch.nn as nn\n",
    "import torch.nn.functional as F\n",
    "import torchvision.models as models"
   ]
  },
  {
   "cell_type": "code",
   "execution_count": 4,
   "metadata": {},
   "outputs": [],
   "source": [
    "with open('./config.yaml') as file:\n",
    "    configs = yaml.load(file, Loader=yaml.FullLoader)"
   ]
  },
  {
   "cell_type": "code",
   "execution_count": 9,
   "metadata": {},
   "outputs": [],
   "source": [
    "n,i,c,s,n_,p = configs['model'].values()"
   ]
  },
  {
   "cell_type": "code",
   "execution_count": 47,
   "metadata": {},
   "outputs": [],
   "source": [
    "class ResNet(nn.Module):\n",
    "\n",
    "    def __init__(self, in_channels=3, cifar=True, size=50, n_classes=10, pretrained=False):\n",
    "        super(ResNet, self).__init__()\n",
    "\n",
    "        if size == 18:\n",
    "            self.model = models.resnet18(pretrained=pretrained)\n",
    "        elif size == 50:\n",
    "            self.model = models.resnet50(pretrained=pretrained)\n",
    "\n",
    "        if cifar and not pretrained:\n",
    "            self.model.conv1 = nn.Conv2d(in_channels, 64, kernel_size=3, stride=1, padding=3, bias=False)\n",
    "            del self.model.maxpool\n",
    "        elif not cifar and not pretrained:\n",
    "            self.model.conv1 = nn.Conv2d(in_channels, 64, kernel_size=7, stride=2, padding=3, bias=False)\n",
    "\n",
    "        num_ftrs = self.model.fc.in_features\n",
    "        self.features = nn.Sequential(*list(self.model.children())[:-1])  # all backbone without fc layer\n",
    "        self.l1 = nn.Linear(num_ftrs, n_classes)\n",
    "\n",
    "    def forward(self, x):\n",
    "\n",
    "        x = self.features(x)\n",
    "        x = x.squeeze()\n",
    "        x = self.l1(x)\n",
    "\n",
    "        return x\n",
    "\n",
    "    def set_writer(self, writer):\n",
    "        \"\"\" Set writer, used for bookkeeping.\"\"\"\n",
    "        self.writer = writer"
   ]
  },
  {
   "cell_type": "code",
   "execution_count": 50,
   "metadata": {},
   "outputs": [],
   "source": [
    "from torch.utils.data import Dataset, DataLoader, random_split\n",
    "from torchvision import transforms\n",
    "import torchvision.transforms.functional as F\n",
    "from torch.nn.functional import interpolate\n",
    "from torchvision.datasets import CIFAR10"
   ]
  },
  {
   "cell_type": "code",
   "execution_count": 51,
   "metadata": {},
   "outputs": [],
   "source": [
    "def returnCIFAR10data(): ## train using 2000 images\n",
    "    dset_dir = '../'  ## directory that contains 'cifar-10-batches-py'\n",
    "    batch_size = 128\n",
    "    test_portion = 0.2\n",
    "    num_workers = 1\n",
    "    train = False\n",
    "\n",
    "    def split_sets(dset, test_portion):\n",
    "        # Creating data indices for training and validation splits:\n",
    "        dataset_size = len(dset)\n",
    "        test_size = int(dataset_size * test_portion)\n",
    "        train_size = int(dataset_size - test_size)\n",
    "\n",
    "        train_set, test_set = random_split(dset, [train_size, test_size])\n",
    "\n",
    "        return train_set, test_set\n",
    "\n",
    "    dset = CIFAR10(root=dset_dir, train=train, transform=transforms.ToTensor())\n",
    "\n",
    "    dset, _ = random_split(dset, [2500, len(dset)-2500])\n",
    "    train_set, test_set = split_sets(dset, test_portion)\n",
    "\n",
    "    train_loader = DataLoader(train_set,\n",
    "                              batch_size=batch_size,\n",
    "                              shuffle=False,\n",
    "                              num_workers=num_workers,\n",
    "                              pin_memory=True,\n",
    "                              drop_last=False)\n",
    "\n",
    "    test_loader = DataLoader(test_set,\n",
    "                             batch_size=batch_size,\n",
    "                             shuffle=False,\n",
    "                             num_workers=num_workers,\n",
    "                             pin_memory=True,\n",
    "                             drop_last=False)\n",
    "\n",
    "    return train_loader, test_loader"
   ]
  },
  {
   "cell_type": "code",
   "execution_count": 52,
   "metadata": {},
   "outputs": [],
   "source": [
    "tr_loader, val_loader = returnCIFAR10data()"
   ]
  },
  {
   "cell_type": "code",
   "execution_count": 56,
   "metadata": {},
   "outputs": [],
   "source": [
    "for b, la in tr_loader:\n",
    "    batch = b\n",
    "    break"
   ]
  },
  {
   "cell_type": "code",
   "execution_count": 58,
   "metadata": {},
   "outputs": [
    {
     "data": {
      "text/plain": [
       "tensor([[[[1.0000, 1.0000, 0.9882,  ..., 1.0000, 1.0000, 1.0000],\n",
       "          [1.0000, 0.9137, 0.7725,  ..., 1.0000, 1.0000, 1.0000],\n",
       "          [0.9176, 0.7490, 0.6118,  ..., 1.0000, 1.0000, 1.0000],\n",
       "          ...,\n",
       "          [1.0000, 0.9961, 0.9961,  ..., 0.4784, 0.9529, 1.0000],\n",
       "          [1.0000, 0.9961, 0.9961,  ..., 0.2157, 0.8078, 1.0000],\n",
       "          [1.0000, 0.9961, 0.9961,  ..., 0.7961, 0.9412, 1.0000]],\n",
       "\n",
       "         [[1.0000, 1.0000, 1.0000,  ..., 1.0000, 1.0000, 1.0000],\n",
       "          [1.0000, 0.8824, 0.6745,  ..., 1.0000, 1.0000, 1.0000],\n",
       "          [0.8549, 0.5412, 0.3216,  ..., 1.0000, 1.0000, 1.0000],\n",
       "          ...,\n",
       "          [1.0000, 0.9961, 0.9961,  ..., 0.4745, 0.9529, 1.0000],\n",
       "          [1.0000, 0.9961, 0.9961,  ..., 0.2157, 0.8078, 1.0000],\n",
       "          [1.0000, 0.9961, 0.9961,  ..., 0.7961, 0.9412, 1.0000]],\n",
       "\n",
       "         [[0.9961, 1.0000, 1.0000,  ..., 1.0000, 1.0000, 1.0000],\n",
       "          [0.9922, 0.8588, 0.6118,  ..., 1.0000, 1.0000, 1.0000],\n",
       "          [0.7922, 0.3882, 0.1294,  ..., 1.0000, 1.0000, 1.0000],\n",
       "          ...,\n",
       "          [1.0000, 0.9961, 0.9961,  ..., 0.4784, 0.9529, 1.0000],\n",
       "          [1.0000, 0.9961, 0.9961,  ..., 0.2157, 0.8078, 1.0000],\n",
       "          [1.0000, 0.9961, 0.9961,  ..., 0.7882, 0.9412, 1.0000]]],\n",
       "\n",
       "\n",
       "        [[[0.4235, 0.4157, 0.4431,  ..., 0.6784, 0.6588, 0.6706],\n",
       "          [0.5098, 0.5020, 0.5098,  ..., 0.7569, 0.7373, 0.7333],\n",
       "          [0.5608, 0.5765, 0.5686,  ..., 0.8039, 0.7765, 0.7608],\n",
       "          ...,\n",
       "          [0.7843, 0.7961, 0.8510,  ..., 0.9569, 0.9412, 0.9490],\n",
       "          [0.7765, 0.8000, 0.8275,  ..., 0.9294, 0.9451, 0.9412],\n",
       "          [0.7176, 0.7686, 0.7804,  ..., 0.9412, 0.9412, 0.9451]],\n",
       "\n",
       "         [[0.2627, 0.2471, 0.2667,  ..., 0.4941, 0.4902, 0.5137],\n",
       "          [0.3137, 0.3059, 0.3098,  ..., 0.5569, 0.5451, 0.5490],\n",
       "          [0.3294, 0.3529, 0.3529,  ..., 0.5922, 0.5725, 0.5569],\n",
       "          ...,\n",
       "          [0.4706, 0.4745, 0.5137,  ..., 0.8196, 0.8118, 0.8000],\n",
       "          [0.4706, 0.4824, 0.4980,  ..., 0.8039, 0.8078, 0.7843],\n",
       "          [0.4118, 0.4549, 0.4549,  ..., 0.8196, 0.8000, 0.7882]],\n",
       "\n",
       "         [[0.1412, 0.1294, 0.1373,  ..., 0.2980, 0.3020, 0.3373],\n",
       "          [0.1725, 0.1608, 0.1569,  ..., 0.3451, 0.3412, 0.3529],\n",
       "          [0.1725, 0.1882, 0.1765,  ..., 0.3725, 0.3569, 0.3412],\n",
       "          ...,\n",
       "          [0.2627, 0.2588, 0.2941,  ..., 0.6000, 0.5922, 0.5843],\n",
       "          [0.2745, 0.2784, 0.2863,  ..., 0.5882, 0.6039, 0.5804],\n",
       "          [0.2353, 0.2667, 0.2549,  ..., 0.6039, 0.6039, 0.5882]]],\n",
       "\n",
       "\n",
       "        [[[0.1608, 0.0784, 0.1216,  ..., 0.0941, 0.2235, 0.2118],\n",
       "          [0.1176, 0.0667, 0.0784,  ..., 0.1137, 0.2392, 0.2118],\n",
       "          [0.1216, 0.1255, 0.1216,  ..., 0.1373, 0.2510, 0.2039],\n",
       "          ...,\n",
       "          [0.3569, 0.3725, 0.3882,  ..., 0.2706, 0.2078, 0.1608],\n",
       "          [0.3569, 0.3647, 0.3765,  ..., 0.4196, 0.4039, 0.3882],\n",
       "          [0.3373, 0.3529, 0.3686,  ..., 0.4039, 0.4157, 0.4431]],\n",
       "\n",
       "         [[0.1569, 0.0627, 0.1059,  ..., 0.0902, 0.2078, 0.2039],\n",
       "          [0.1020, 0.0392, 0.0627,  ..., 0.1137, 0.2314, 0.2078],\n",
       "          [0.1020, 0.1020, 0.0941,  ..., 0.1373, 0.2431, 0.2039],\n",
       "          ...,\n",
       "          [0.4000, 0.4118, 0.4314,  ..., 0.5373, 0.5098, 0.4902],\n",
       "          [0.3922, 0.4039, 0.4157,  ..., 0.5686, 0.5569, 0.5529],\n",
       "          [0.3725, 0.3843, 0.4078,  ..., 0.5608, 0.5451, 0.5608]],\n",
       "\n",
       "         [[0.1412, 0.0627, 0.1059,  ..., 0.1020, 0.2392, 0.2353],\n",
       "          [0.0902, 0.0431, 0.0549,  ..., 0.1255, 0.2667, 0.2392],\n",
       "          [0.0863, 0.0824, 0.0745,  ..., 0.1490, 0.2784, 0.2392],\n",
       "          ...,\n",
       "          [0.3843, 0.3961, 0.4078,  ..., 0.6941, 0.6784, 0.6706],\n",
       "          [0.3804, 0.3882, 0.3961,  ..., 0.6980, 0.6902, 0.6902],\n",
       "          [0.3608, 0.3725, 0.3882,  ..., 0.6980, 0.6784, 0.6980]]],\n",
       "\n",
       "\n",
       "        ...,\n",
       "\n",
       "\n",
       "        [[[1.0000, 1.0000, 1.0000,  ..., 0.9059, 0.8353, 0.8353],\n",
       "          [1.0000, 0.9961, 1.0000,  ..., 0.8863, 0.8118, 0.8275],\n",
       "          [1.0000, 1.0000, 1.0000,  ..., 0.8784, 0.7961, 0.8314],\n",
       "          ...,\n",
       "          [0.9882, 0.9765, 0.9804,  ..., 0.3451, 0.5647, 0.7961],\n",
       "          [0.9843, 0.9765, 0.9765,  ..., 0.6784, 0.8118, 0.8824],\n",
       "          [0.9882, 0.9725, 0.9647,  ..., 0.8588, 0.8784, 0.8902]],\n",
       "\n",
       "         [[1.0000, 1.0000, 1.0000,  ..., 0.8902, 0.8235, 0.8235],\n",
       "          [1.0000, 0.9961, 1.0000,  ..., 0.8706, 0.8000, 0.8118],\n",
       "          [1.0000, 1.0000, 1.0000,  ..., 0.8667, 0.7843, 0.8196],\n",
       "          ...,\n",
       "          [1.0000, 0.9922, 0.9961,  ..., 0.3451, 0.5608, 0.7843],\n",
       "          [1.0000, 0.9922, 0.9922,  ..., 0.6784, 0.8078, 0.8706],\n",
       "          [1.0000, 0.9882, 0.9804,  ..., 0.8588, 0.8784, 0.8784]],\n",
       "\n",
       "         [[1.0000, 1.0000, 1.0000,  ..., 0.8706, 0.8000, 0.8078],\n",
       "          [1.0000, 0.9961, 1.0000,  ..., 0.8510, 0.7725, 0.7961],\n",
       "          [1.0000, 1.0000, 1.0000,  ..., 0.8471, 0.7569, 0.8039],\n",
       "          ...,\n",
       "          [0.9961, 0.9882, 0.9922,  ..., 0.3412, 0.5608, 0.7882],\n",
       "          [1.0000, 0.9882, 0.9882,  ..., 0.6784, 0.8078, 0.8745],\n",
       "          [1.0000, 0.9843, 0.9765,  ..., 0.8588, 0.8784, 0.8824]]],\n",
       "\n",
       "\n",
       "        [[[0.7843, 0.7725, 0.7725,  ..., 0.7529, 0.7412, 0.7490],\n",
       "          [0.7882, 0.7843, 0.7961,  ..., 0.7608, 0.7412, 0.7373],\n",
       "          [0.7686, 0.7765, 0.7922,  ..., 0.7608, 0.7490, 0.7333],\n",
       "          ...,\n",
       "          [0.4824, 0.6000, 0.6510,  ..., 0.7843, 0.7608, 0.6627],\n",
       "          [0.4314, 0.4863, 0.6000,  ..., 0.9529, 0.9333, 0.8000],\n",
       "          [0.4000, 0.4392, 0.4941,  ..., 0.9569, 0.9686, 0.9490]],\n",
       "\n",
       "         [[0.7137, 0.7020, 0.7020,  ..., 0.6902, 0.6824, 0.6863],\n",
       "          [0.7176, 0.7137, 0.7255,  ..., 0.6941, 0.6784, 0.6706],\n",
       "          [0.7059, 0.7059, 0.7176,  ..., 0.6902, 0.6863, 0.6706],\n",
       "          ...,\n",
       "          [0.3961, 0.5255, 0.5882,  ..., 0.7333, 0.7137, 0.6196],\n",
       "          [0.3373, 0.4000, 0.5294,  ..., 0.9412, 0.9176, 0.7882],\n",
       "          [0.2980, 0.3490, 0.4196,  ..., 0.9529, 0.9765, 0.9569]],\n",
       "\n",
       "         [[0.6588, 0.6471, 0.6549,  ..., 0.6392, 0.6314, 0.6314],\n",
       "          [0.6627, 0.6588, 0.6667,  ..., 0.6549, 0.6275, 0.6078],\n",
       "          [0.6431, 0.6431, 0.6627,  ..., 0.6627, 0.6392, 0.6039],\n",
       "          ...,\n",
       "          [0.3373, 0.4745, 0.5490,  ..., 0.7098, 0.7098, 0.5961],\n",
       "          [0.2667, 0.3569, 0.4863,  ..., 0.9294, 0.9098, 0.7608],\n",
       "          [0.2275, 0.2980, 0.3647,  ..., 0.9412, 0.9608, 0.9373]]],\n",
       "\n",
       "\n",
       "        [[[0.0275, 0.0235, 0.0314,  ..., 0.0353, 0.0314, 0.0275],\n",
       "          [0.0314, 0.0275, 0.0275,  ..., 0.0392, 0.0431, 0.0392],\n",
       "          [0.0314, 0.0353, 0.0353,  ..., 0.0549, 0.0431, 0.0431],\n",
       "          ...,\n",
       "          [0.0431, 0.0275, 0.0275,  ..., 0.0235, 0.0314, 0.0314],\n",
       "          [0.0275, 0.0392, 0.0392,  ..., 0.0275, 0.0235, 0.0314],\n",
       "          [0.0275, 0.0392, 0.0431,  ..., 0.0235, 0.0275, 0.0235]],\n",
       "\n",
       "         [[0.2039, 0.2078, 0.2196,  ..., 0.2667, 0.2510, 0.2431],\n",
       "          [0.2157, 0.2157, 0.2235,  ..., 0.2745, 0.2745, 0.2588],\n",
       "          [0.2196, 0.2314, 0.2353,  ..., 0.2902, 0.2745, 0.2667],\n",
       "          ...,\n",
       "          [0.2314, 0.2235, 0.2275,  ..., 0.2471, 0.2510, 0.2431],\n",
       "          [0.2118, 0.2275, 0.2392,  ..., 0.2471, 0.2392, 0.2353],\n",
       "          [0.2078, 0.2275, 0.2353,  ..., 0.2392, 0.2392, 0.2275]],\n",
       "\n",
       "         [[0.3490, 0.3608, 0.3882,  ..., 0.4941, 0.4784, 0.4627],\n",
       "          [0.3647, 0.3765, 0.3961,  ..., 0.5098, 0.5059, 0.4863],\n",
       "          [0.3725, 0.3922, 0.4118,  ..., 0.5294, 0.5098, 0.4980],\n",
       "          ...,\n",
       "          [0.3686, 0.3647, 0.3765,  ..., 0.4549, 0.4510, 0.4392],\n",
       "          [0.3490, 0.3647, 0.3804,  ..., 0.4431, 0.4314, 0.4235],\n",
       "          [0.3412, 0.3608, 0.3765,  ..., 0.4314, 0.4235, 0.4078]]]])"
      ]
     },
     "execution_count": 58,
     "metadata": {},
     "output_type": "execute_result"
    }
   ],
   "source": [
    "batch"
   ]
  },
  {
   "cell_type": "code",
   "execution_count": 64,
   "metadata": {},
   "outputs": [],
   "source": [
    "net = eval('ResNet')"
   ]
  },
  {
   "cell_type": "code",
   "execution_count": 65,
   "metadata": {},
   "outputs": [
    {
     "name": "stderr",
     "output_type": "stream",
     "text": [
      "Downloading: \"https://download.pytorch.org/models/resnet50-19c8e357.pth\" to /Users/canerpolat/.cache/torch/hub/checkpoints/resnet50-19c8e357.pth\n"
     ]
    },
    {
     "data": {
      "application/vnd.jupyter.widget-view+json": {
       "model_id": "d5dc0f4674ef4f9a88069e274fc6ca58",
       "version_major": 2,
       "version_minor": 0
      },
      "text/plain": [
       "HBox(children=(HTML(value=''), FloatProgress(value=0.0, max=102502400.0), HTML(value='')))"
      ]
     },
     "metadata": {},
     "output_type": "display_data"
    },
    {
     "name": "stdout",
     "output_type": "stream",
     "text": [
      "\n"
     ]
    }
   ],
   "source": [
    "net = net(in_channels=3, pretrained=True)"
   ]
  },
  {
   "cell_type": "code",
   "execution_count": 66,
   "metadata": {},
   "outputs": [],
   "source": [
    "out = net(batch)"
   ]
  },
  {
   "cell_type": "code",
   "execution_count": 67,
   "metadata": {},
   "outputs": [
    {
     "data": {
      "text/plain": [
       "torch.Size([128, 10])"
      ]
     },
     "execution_count": 67,
     "metadata": {},
     "output_type": "execute_result"
    }
   ],
   "source": [
    "out.shape"
   ]
  },
  {
   "cell_type": "code",
   "execution_count": 32,
   "metadata": {},
   "outputs": [],
   "source": [
    "weights = torch.load('../SimCLR/runs/Nov22_18-21-08_isegpu2/checkpoints/model.pth', map_location=torch.device('cpu'))"
   ]
  },
  {
   "cell_type": "code",
   "execution_count": 35,
   "metadata": {},
   "outputs": [],
   "source": [
    "for i in range(4):\n",
    "    weights.popitem()"
   ]
  },
  {
   "cell_type": "code",
   "execution_count": 43,
   "metadata": {
    "collapsed": true
   },
   "outputs": [
    {
     "data": {
      "text/plain": [
       "_IncompatibleKeys(missing_keys=['model.conv1.weight', 'model.bn1.weight', 'model.bn1.bias', 'model.bn1.running_mean', 'model.bn1.running_var', 'model.layer1.0.conv1.weight', 'model.layer1.0.bn1.weight', 'model.layer1.0.bn1.bias', 'model.layer1.0.bn1.running_mean', 'model.layer1.0.bn1.running_var', 'model.layer1.0.conv2.weight', 'model.layer1.0.bn2.weight', 'model.layer1.0.bn2.bias', 'model.layer1.0.bn2.running_mean', 'model.layer1.0.bn2.running_var', 'model.layer1.0.conv3.weight', 'model.layer1.0.bn3.weight', 'model.layer1.0.bn3.bias', 'model.layer1.0.bn3.running_mean', 'model.layer1.0.bn3.running_var', 'model.layer1.0.downsample.0.weight', 'model.layer1.0.downsample.1.weight', 'model.layer1.0.downsample.1.bias', 'model.layer1.0.downsample.1.running_mean', 'model.layer1.0.downsample.1.running_var', 'model.layer1.1.conv1.weight', 'model.layer1.1.bn1.weight', 'model.layer1.1.bn1.bias', 'model.layer1.1.bn1.running_mean', 'model.layer1.1.bn1.running_var', 'model.layer1.1.conv2.weight', 'model.layer1.1.bn2.weight', 'model.layer1.1.bn2.bias', 'model.layer1.1.bn2.running_mean', 'model.layer1.1.bn2.running_var', 'model.layer1.1.conv3.weight', 'model.layer1.1.bn3.weight', 'model.layer1.1.bn3.bias', 'model.layer1.1.bn3.running_mean', 'model.layer1.1.bn3.running_var', 'model.layer1.2.conv1.weight', 'model.layer1.2.bn1.weight', 'model.layer1.2.bn1.bias', 'model.layer1.2.bn1.running_mean', 'model.layer1.2.bn1.running_var', 'model.layer1.2.conv2.weight', 'model.layer1.2.bn2.weight', 'model.layer1.2.bn2.bias', 'model.layer1.2.bn2.running_mean', 'model.layer1.2.bn2.running_var', 'model.layer1.2.conv3.weight', 'model.layer1.2.bn3.weight', 'model.layer1.2.bn3.bias', 'model.layer1.2.bn3.running_mean', 'model.layer1.2.bn3.running_var', 'model.layer2.0.conv1.weight', 'model.layer2.0.bn1.weight', 'model.layer2.0.bn1.bias', 'model.layer2.0.bn1.running_mean', 'model.layer2.0.bn1.running_var', 'model.layer2.0.conv2.weight', 'model.layer2.0.bn2.weight', 'model.layer2.0.bn2.bias', 'model.layer2.0.bn2.running_mean', 'model.layer2.0.bn2.running_var', 'model.layer2.0.conv3.weight', 'model.layer2.0.bn3.weight', 'model.layer2.0.bn3.bias', 'model.layer2.0.bn3.running_mean', 'model.layer2.0.bn3.running_var', 'model.layer2.0.downsample.0.weight', 'model.layer2.0.downsample.1.weight', 'model.layer2.0.downsample.1.bias', 'model.layer2.0.downsample.1.running_mean', 'model.layer2.0.downsample.1.running_var', 'model.layer2.1.conv1.weight', 'model.layer2.1.bn1.weight', 'model.layer2.1.bn1.bias', 'model.layer2.1.bn1.running_mean', 'model.layer2.1.bn1.running_var', 'model.layer2.1.conv2.weight', 'model.layer2.1.bn2.weight', 'model.layer2.1.bn2.bias', 'model.layer2.1.bn2.running_mean', 'model.layer2.1.bn2.running_var', 'model.layer2.1.conv3.weight', 'model.layer2.1.bn3.weight', 'model.layer2.1.bn3.bias', 'model.layer2.1.bn3.running_mean', 'model.layer2.1.bn3.running_var', 'model.layer2.2.conv1.weight', 'model.layer2.2.bn1.weight', 'model.layer2.2.bn1.bias', 'model.layer2.2.bn1.running_mean', 'model.layer2.2.bn1.running_var', 'model.layer2.2.conv2.weight', 'model.layer2.2.bn2.weight', 'model.layer2.2.bn2.bias', 'model.layer2.2.bn2.running_mean', 'model.layer2.2.bn2.running_var', 'model.layer2.2.conv3.weight', 'model.layer2.2.bn3.weight', 'model.layer2.2.bn3.bias', 'model.layer2.2.bn3.running_mean', 'model.layer2.2.bn3.running_var', 'model.layer2.3.conv1.weight', 'model.layer2.3.bn1.weight', 'model.layer2.3.bn1.bias', 'model.layer2.3.bn1.running_mean', 'model.layer2.3.bn1.running_var', 'model.layer2.3.conv2.weight', 'model.layer2.3.bn2.weight', 'model.layer2.3.bn2.bias', 'model.layer2.3.bn2.running_mean', 'model.layer2.3.bn2.running_var', 'model.layer2.3.conv3.weight', 'model.layer2.3.bn3.weight', 'model.layer2.3.bn3.bias', 'model.layer2.3.bn3.running_mean', 'model.layer2.3.bn3.running_var', 'model.layer3.0.conv1.weight', 'model.layer3.0.bn1.weight', 'model.layer3.0.bn1.bias', 'model.layer3.0.bn1.running_mean', 'model.layer3.0.bn1.running_var', 'model.layer3.0.conv2.weight', 'model.layer3.0.bn2.weight', 'model.layer3.0.bn2.bias', 'model.layer3.0.bn2.running_mean', 'model.layer3.0.bn2.running_var', 'model.layer3.0.conv3.weight', 'model.layer3.0.bn3.weight', 'model.layer3.0.bn3.bias', 'model.layer3.0.bn3.running_mean', 'model.layer3.0.bn3.running_var', 'model.layer3.0.downsample.0.weight', 'model.layer3.0.downsample.1.weight', 'model.layer3.0.downsample.1.bias', 'model.layer3.0.downsample.1.running_mean', 'model.layer3.0.downsample.1.running_var', 'model.layer3.1.conv1.weight', 'model.layer3.1.bn1.weight', 'model.layer3.1.bn1.bias', 'model.layer3.1.bn1.running_mean', 'model.layer3.1.bn1.running_var', 'model.layer3.1.conv2.weight', 'model.layer3.1.bn2.weight', 'model.layer3.1.bn2.bias', 'model.layer3.1.bn2.running_mean', 'model.layer3.1.bn2.running_var', 'model.layer3.1.conv3.weight', 'model.layer3.1.bn3.weight', 'model.layer3.1.bn3.bias', 'model.layer3.1.bn3.running_mean', 'model.layer3.1.bn3.running_var', 'model.layer3.2.conv1.weight', 'model.layer3.2.bn1.weight', 'model.layer3.2.bn1.bias', 'model.layer3.2.bn1.running_mean', 'model.layer3.2.bn1.running_var', 'model.layer3.2.conv2.weight', 'model.layer3.2.bn2.weight', 'model.layer3.2.bn2.bias', 'model.layer3.2.bn2.running_mean', 'model.layer3.2.bn2.running_var', 'model.layer3.2.conv3.weight', 'model.layer3.2.bn3.weight', 'model.layer3.2.bn3.bias', 'model.layer3.2.bn3.running_mean', 'model.layer3.2.bn3.running_var', 'model.layer3.3.conv1.weight', 'model.layer3.3.bn1.weight', 'model.layer3.3.bn1.bias', 'model.layer3.3.bn1.running_mean', 'model.layer3.3.bn1.running_var', 'model.layer3.3.conv2.weight', 'model.layer3.3.bn2.weight', 'model.layer3.3.bn2.bias', 'model.layer3.3.bn2.running_mean', 'model.layer3.3.bn2.running_var', 'model.layer3.3.conv3.weight', 'model.layer3.3.bn3.weight', 'model.layer3.3.bn3.bias', 'model.layer3.3.bn3.running_mean', 'model.layer3.3.bn3.running_var', 'model.layer3.4.conv1.weight', 'model.layer3.4.bn1.weight', 'model.layer3.4.bn1.bias', 'model.layer3.4.bn1.running_mean', 'model.layer3.4.bn1.running_var', 'model.layer3.4.conv2.weight', 'model.layer3.4.bn2.weight', 'model.layer3.4.bn2.bias', 'model.layer3.4.bn2.running_mean', 'model.layer3.4.bn2.running_var', 'model.layer3.4.conv3.weight', 'model.layer3.4.bn3.weight', 'model.layer3.4.bn3.bias', 'model.layer3.4.bn3.running_mean', 'model.layer3.4.bn3.running_var', 'model.layer3.5.conv1.weight', 'model.layer3.5.bn1.weight', 'model.layer3.5.bn1.bias', 'model.layer3.5.bn1.running_mean', 'model.layer3.5.bn1.running_var', 'model.layer3.5.conv2.weight', 'model.layer3.5.bn2.weight', 'model.layer3.5.bn2.bias', 'model.layer3.5.bn2.running_mean', 'model.layer3.5.bn2.running_var', 'model.layer3.5.conv3.weight', 'model.layer3.5.bn3.weight', 'model.layer3.5.bn3.bias', 'model.layer3.5.bn3.running_mean', 'model.layer3.5.bn3.running_var', 'model.layer4.0.conv1.weight', 'model.layer4.0.bn1.weight', 'model.layer4.0.bn1.bias', 'model.layer4.0.bn1.running_mean', 'model.layer4.0.bn1.running_var', 'model.layer4.0.conv2.weight', 'model.layer4.0.bn2.weight', 'model.layer4.0.bn2.bias', 'model.layer4.0.bn2.running_mean', 'model.layer4.0.bn2.running_var', 'model.layer4.0.conv3.weight', 'model.layer4.0.bn3.weight', 'model.layer4.0.bn3.bias', 'model.layer4.0.bn3.running_mean', 'model.layer4.0.bn3.running_var', 'model.layer4.0.downsample.0.weight', 'model.layer4.0.downsample.1.weight', 'model.layer4.0.downsample.1.bias', 'model.layer4.0.downsample.1.running_mean', 'model.layer4.0.downsample.1.running_var', 'model.layer4.1.conv1.weight', 'model.layer4.1.bn1.weight', 'model.layer4.1.bn1.bias', 'model.layer4.1.bn1.running_mean', 'model.layer4.1.bn1.running_var', 'model.layer4.1.conv2.weight', 'model.layer4.1.bn2.weight', 'model.layer4.1.bn2.bias', 'model.layer4.1.bn2.running_mean', 'model.layer4.1.bn2.running_var', 'model.layer4.1.conv3.weight', 'model.layer4.1.bn3.weight', 'model.layer4.1.bn3.bias', 'model.layer4.1.bn3.running_mean', 'model.layer4.1.bn3.running_var', 'model.layer4.2.conv1.weight', 'model.layer4.2.bn1.weight', 'model.layer4.2.bn1.bias', 'model.layer4.2.bn1.running_mean', 'model.layer4.2.bn1.running_var', 'model.layer4.2.conv2.weight', 'model.layer4.2.bn2.weight', 'model.layer4.2.bn2.bias', 'model.layer4.2.bn2.running_mean', 'model.layer4.2.bn2.running_var', 'model.layer4.2.conv3.weight', 'model.layer4.2.bn3.weight', 'model.layer4.2.bn3.bias', 'model.layer4.2.bn3.running_mean', 'model.layer4.2.bn3.running_var', 'model.fc.weight', 'model.fc.bias', 'l1.weight', 'l1.bias'], unexpected_keys=[])"
      ]
     },
     "execution_count": 43,
     "metadata": {},
     "output_type": "execute_result"
    }
   ],
   "source": [
    "net.load_state_dict(weights, strict=False)"
   ]
  },
  {
   "cell_type": "code",
   "execution_count": 44,
   "metadata": {
    "collapsed": true
   },
   "outputs": [
    {
     "data": {
      "text/plain": [
       "odict_keys(['features.0.weight', 'features.1.weight', 'features.1.bias', 'features.1.running_mean', 'features.1.running_var', 'features.1.num_batches_tracked', 'features.3.0.conv1.weight', 'features.3.0.bn1.weight', 'features.3.0.bn1.bias', 'features.3.0.bn1.running_mean', 'features.3.0.bn1.running_var', 'features.3.0.bn1.num_batches_tracked', 'features.3.0.conv2.weight', 'features.3.0.bn2.weight', 'features.3.0.bn2.bias', 'features.3.0.bn2.running_mean', 'features.3.0.bn2.running_var', 'features.3.0.bn2.num_batches_tracked', 'features.3.0.conv3.weight', 'features.3.0.bn3.weight', 'features.3.0.bn3.bias', 'features.3.0.bn3.running_mean', 'features.3.0.bn3.running_var', 'features.3.0.bn3.num_batches_tracked', 'features.3.0.downsample.0.weight', 'features.3.0.downsample.1.weight', 'features.3.0.downsample.1.bias', 'features.3.0.downsample.1.running_mean', 'features.3.0.downsample.1.running_var', 'features.3.0.downsample.1.num_batches_tracked', 'features.3.1.conv1.weight', 'features.3.1.bn1.weight', 'features.3.1.bn1.bias', 'features.3.1.bn1.running_mean', 'features.3.1.bn1.running_var', 'features.3.1.bn1.num_batches_tracked', 'features.3.1.conv2.weight', 'features.3.1.bn2.weight', 'features.3.1.bn2.bias', 'features.3.1.bn2.running_mean', 'features.3.1.bn2.running_var', 'features.3.1.bn2.num_batches_tracked', 'features.3.1.conv3.weight', 'features.3.1.bn3.weight', 'features.3.1.bn3.bias', 'features.3.1.bn3.running_mean', 'features.3.1.bn3.running_var', 'features.3.1.bn3.num_batches_tracked', 'features.3.2.conv1.weight', 'features.3.2.bn1.weight', 'features.3.2.bn1.bias', 'features.3.2.bn1.running_mean', 'features.3.2.bn1.running_var', 'features.3.2.bn1.num_batches_tracked', 'features.3.2.conv2.weight', 'features.3.2.bn2.weight', 'features.3.2.bn2.bias', 'features.3.2.bn2.running_mean', 'features.3.2.bn2.running_var', 'features.3.2.bn2.num_batches_tracked', 'features.3.2.conv3.weight', 'features.3.2.bn3.weight', 'features.3.2.bn3.bias', 'features.3.2.bn3.running_mean', 'features.3.2.bn3.running_var', 'features.3.2.bn3.num_batches_tracked', 'features.4.0.conv1.weight', 'features.4.0.bn1.weight', 'features.4.0.bn1.bias', 'features.4.0.bn1.running_mean', 'features.4.0.bn1.running_var', 'features.4.0.bn1.num_batches_tracked', 'features.4.0.conv2.weight', 'features.4.0.bn2.weight', 'features.4.0.bn2.bias', 'features.4.0.bn2.running_mean', 'features.4.0.bn2.running_var', 'features.4.0.bn2.num_batches_tracked', 'features.4.0.conv3.weight', 'features.4.0.bn3.weight', 'features.4.0.bn3.bias', 'features.4.0.bn3.running_mean', 'features.4.0.bn3.running_var', 'features.4.0.bn3.num_batches_tracked', 'features.4.0.downsample.0.weight', 'features.4.0.downsample.1.weight', 'features.4.0.downsample.1.bias', 'features.4.0.downsample.1.running_mean', 'features.4.0.downsample.1.running_var', 'features.4.0.downsample.1.num_batches_tracked', 'features.4.1.conv1.weight', 'features.4.1.bn1.weight', 'features.4.1.bn1.bias', 'features.4.1.bn1.running_mean', 'features.4.1.bn1.running_var', 'features.4.1.bn1.num_batches_tracked', 'features.4.1.conv2.weight', 'features.4.1.bn2.weight', 'features.4.1.bn2.bias', 'features.4.1.bn2.running_mean', 'features.4.1.bn2.running_var', 'features.4.1.bn2.num_batches_tracked', 'features.4.1.conv3.weight', 'features.4.1.bn3.weight', 'features.4.1.bn3.bias', 'features.4.1.bn3.running_mean', 'features.4.1.bn3.running_var', 'features.4.1.bn3.num_batches_tracked', 'features.4.2.conv1.weight', 'features.4.2.bn1.weight', 'features.4.2.bn1.bias', 'features.4.2.bn1.running_mean', 'features.4.2.bn1.running_var', 'features.4.2.bn1.num_batches_tracked', 'features.4.2.conv2.weight', 'features.4.2.bn2.weight', 'features.4.2.bn2.bias', 'features.4.2.bn2.running_mean', 'features.4.2.bn2.running_var', 'features.4.2.bn2.num_batches_tracked', 'features.4.2.conv3.weight', 'features.4.2.bn3.weight', 'features.4.2.bn3.bias', 'features.4.2.bn3.running_mean', 'features.4.2.bn3.running_var', 'features.4.2.bn3.num_batches_tracked', 'features.4.3.conv1.weight', 'features.4.3.bn1.weight', 'features.4.3.bn1.bias', 'features.4.3.bn1.running_mean', 'features.4.3.bn1.running_var', 'features.4.3.bn1.num_batches_tracked', 'features.4.3.conv2.weight', 'features.4.3.bn2.weight', 'features.4.3.bn2.bias', 'features.4.3.bn2.running_mean', 'features.4.3.bn2.running_var', 'features.4.3.bn2.num_batches_tracked', 'features.4.3.conv3.weight', 'features.4.3.bn3.weight', 'features.4.3.bn3.bias', 'features.4.3.bn3.running_mean', 'features.4.3.bn3.running_var', 'features.4.3.bn3.num_batches_tracked', 'features.5.0.conv1.weight', 'features.5.0.bn1.weight', 'features.5.0.bn1.bias', 'features.5.0.bn1.running_mean', 'features.5.0.bn1.running_var', 'features.5.0.bn1.num_batches_tracked', 'features.5.0.conv2.weight', 'features.5.0.bn2.weight', 'features.5.0.bn2.bias', 'features.5.0.bn2.running_mean', 'features.5.0.bn2.running_var', 'features.5.0.bn2.num_batches_tracked', 'features.5.0.conv3.weight', 'features.5.0.bn3.weight', 'features.5.0.bn3.bias', 'features.5.0.bn3.running_mean', 'features.5.0.bn3.running_var', 'features.5.0.bn3.num_batches_tracked', 'features.5.0.downsample.0.weight', 'features.5.0.downsample.1.weight', 'features.5.0.downsample.1.bias', 'features.5.0.downsample.1.running_mean', 'features.5.0.downsample.1.running_var', 'features.5.0.downsample.1.num_batches_tracked', 'features.5.1.conv1.weight', 'features.5.1.bn1.weight', 'features.5.1.bn1.bias', 'features.5.1.bn1.running_mean', 'features.5.1.bn1.running_var', 'features.5.1.bn1.num_batches_tracked', 'features.5.1.conv2.weight', 'features.5.1.bn2.weight', 'features.5.1.bn2.bias', 'features.5.1.bn2.running_mean', 'features.5.1.bn2.running_var', 'features.5.1.bn2.num_batches_tracked', 'features.5.1.conv3.weight', 'features.5.1.bn3.weight', 'features.5.1.bn3.bias', 'features.5.1.bn3.running_mean', 'features.5.1.bn3.running_var', 'features.5.1.bn3.num_batches_tracked', 'features.5.2.conv1.weight', 'features.5.2.bn1.weight', 'features.5.2.bn1.bias', 'features.5.2.bn1.running_mean', 'features.5.2.bn1.running_var', 'features.5.2.bn1.num_batches_tracked', 'features.5.2.conv2.weight', 'features.5.2.bn2.weight', 'features.5.2.bn2.bias', 'features.5.2.bn2.running_mean', 'features.5.2.bn2.running_var', 'features.5.2.bn2.num_batches_tracked', 'features.5.2.conv3.weight', 'features.5.2.bn3.weight', 'features.5.2.bn3.bias', 'features.5.2.bn3.running_mean', 'features.5.2.bn3.running_var', 'features.5.2.bn3.num_batches_tracked', 'features.5.3.conv1.weight', 'features.5.3.bn1.weight', 'features.5.3.bn1.bias', 'features.5.3.bn1.running_mean', 'features.5.3.bn1.running_var', 'features.5.3.bn1.num_batches_tracked', 'features.5.3.conv2.weight', 'features.5.3.bn2.weight', 'features.5.3.bn2.bias', 'features.5.3.bn2.running_mean', 'features.5.3.bn2.running_var', 'features.5.3.bn2.num_batches_tracked', 'features.5.3.conv3.weight', 'features.5.3.bn3.weight', 'features.5.3.bn3.bias', 'features.5.3.bn3.running_mean', 'features.5.3.bn3.running_var', 'features.5.3.bn3.num_batches_tracked', 'features.5.4.conv1.weight', 'features.5.4.bn1.weight', 'features.5.4.bn1.bias', 'features.5.4.bn1.running_mean', 'features.5.4.bn1.running_var', 'features.5.4.bn1.num_batches_tracked', 'features.5.4.conv2.weight', 'features.5.4.bn2.weight', 'features.5.4.bn2.bias', 'features.5.4.bn2.running_mean', 'features.5.4.bn2.running_var', 'features.5.4.bn2.num_batches_tracked', 'features.5.4.conv3.weight', 'features.5.4.bn3.weight', 'features.5.4.bn3.bias', 'features.5.4.bn3.running_mean', 'features.5.4.bn3.running_var', 'features.5.4.bn3.num_batches_tracked', 'features.5.5.conv1.weight', 'features.5.5.bn1.weight', 'features.5.5.bn1.bias', 'features.5.5.bn1.running_mean', 'features.5.5.bn1.running_var', 'features.5.5.bn1.num_batches_tracked', 'features.5.5.conv2.weight', 'features.5.5.bn2.weight', 'features.5.5.bn2.bias', 'features.5.5.bn2.running_mean', 'features.5.5.bn2.running_var', 'features.5.5.bn2.num_batches_tracked', 'features.5.5.conv3.weight', 'features.5.5.bn3.weight', 'features.5.5.bn3.bias', 'features.5.5.bn3.running_mean', 'features.5.5.bn3.running_var', 'features.5.5.bn3.num_batches_tracked', 'features.6.0.conv1.weight', 'features.6.0.bn1.weight', 'features.6.0.bn1.bias', 'features.6.0.bn1.running_mean', 'features.6.0.bn1.running_var', 'features.6.0.bn1.num_batches_tracked', 'features.6.0.conv2.weight', 'features.6.0.bn2.weight', 'features.6.0.bn2.bias', 'features.6.0.bn2.running_mean', 'features.6.0.bn2.running_var', 'features.6.0.bn2.num_batches_tracked', 'features.6.0.conv3.weight', 'features.6.0.bn3.weight', 'features.6.0.bn3.bias', 'features.6.0.bn3.running_mean', 'features.6.0.bn3.running_var', 'features.6.0.bn3.num_batches_tracked', 'features.6.0.downsample.0.weight', 'features.6.0.downsample.1.weight', 'features.6.0.downsample.1.bias', 'features.6.0.downsample.1.running_mean', 'features.6.0.downsample.1.running_var', 'features.6.0.downsample.1.num_batches_tracked', 'features.6.1.conv1.weight', 'features.6.1.bn1.weight', 'features.6.1.bn1.bias', 'features.6.1.bn1.running_mean', 'features.6.1.bn1.running_var', 'features.6.1.bn1.num_batches_tracked', 'features.6.1.conv2.weight', 'features.6.1.bn2.weight', 'features.6.1.bn2.bias', 'features.6.1.bn2.running_mean', 'features.6.1.bn2.running_var', 'features.6.1.bn2.num_batches_tracked', 'features.6.1.conv3.weight', 'features.6.1.bn3.weight', 'features.6.1.bn3.bias', 'features.6.1.bn3.running_mean', 'features.6.1.bn3.running_var', 'features.6.1.bn3.num_batches_tracked', 'features.6.2.conv1.weight', 'features.6.2.bn1.weight', 'features.6.2.bn1.bias', 'features.6.2.bn1.running_mean', 'features.6.2.bn1.running_var', 'features.6.2.bn1.num_batches_tracked', 'features.6.2.conv2.weight', 'features.6.2.bn2.weight', 'features.6.2.bn2.bias', 'features.6.2.bn2.running_mean', 'features.6.2.bn2.running_var', 'features.6.2.bn2.num_batches_tracked', 'features.6.2.conv3.weight', 'features.6.2.bn3.weight', 'features.6.2.bn3.bias', 'features.6.2.bn3.running_mean', 'features.6.2.bn3.running_var', 'features.6.2.bn3.num_batches_tracked'])"
      ]
     },
     "execution_count": 44,
     "metadata": {},
     "output_type": "execute_result"
    }
   ],
   "source": [
    "weights.keys()"
   ]
  },
  {
   "cell_type": "markdown",
   "metadata": {},
   "source": [
    "# ====================="
   ]
  },
  {
   "cell_type": "code",
   "execution_count": 7,
   "metadata": {},
   "outputs": [],
   "source": [
    "import pickle5\n",
    "\n",
    "with open('./outputs/molar0/metrics.pickle', 'rb') as f:\n",
    "    # The protocol version used is detected automatically, so we do not\n",
    "    # have to specify it.\n",
    "    metrics_cl1 = pickle5.load(f)\n",
    "    \n",
    "with open('./outputs/molar1/metrics.pickle', 'rb') as f:\n",
    "    # The protocol version used is detected automatically, so we do not\n",
    "    # have to specify it.\n",
    "    metrics_cl2 = pickle5.load(f)"
   ]
  },
  {
   "cell_type": "code",
   "execution_count": 8,
   "metadata": {},
   "outputs": [
    {
     "data": {
      "text/plain": [
       "{'acc': 0.5950413223140496,\n",
       " 'bal_acc': 0.3333333333333333,\n",
       " 'f1_scr': 0.5950413223140496,\n",
       " 'recall': 0.5950413223140496,\n",
       " 'precision': 0.5950413223140496,\n",
       " 'loss': 0.926654078066349}"
      ]
     },
     "execution_count": 8,
     "metadata": {},
     "output_type": "execute_result"
    }
   ],
   "source": [
    "metrics_cl1"
   ]
  },
  {
   "cell_type": "code",
   "execution_count": 9,
   "metadata": {},
   "outputs": [
    {
     "data": {
      "text/plain": [
       "{'acc': 0.6570247933884298,\n",
       " 'bal_acc': 0.420355088772193,\n",
       " 'f1_scr': 0.6570247933884298,\n",
       " 'recall': 0.6570247933884298,\n",
       " 'precision': 0.6570247933884298,\n",
       " 'loss': 0.8374862018972635}"
      ]
     },
     "execution_count": 9,
     "metadata": {},
     "output_type": "execute_result"
    }
   ],
   "source": [
    "metrics_cl2"
   ]
  },
  {
   "cell_type": "code",
   "execution_count": null,
   "metadata": {},
   "outputs": [],
   "source": []
  },
  {
   "cell_type": "code",
   "execution_count": null,
   "metadata": {},
   "outputs": [],
   "source": []
  },
  {
   "cell_type": "code",
   "execution_count": null,
   "metadata": {},
   "outputs": [],
   "source": []
  },
  {
   "cell_type": "code",
   "execution_count": null,
   "metadata": {},
   "outputs": [],
   "source": []
  },
  {
   "cell_type": "code",
   "execution_count": null,
   "metadata": {},
   "outputs": [],
   "source": []
  },
  {
   "cell_type": "code",
   "execution_count": null,
   "metadata": {},
   "outputs": [],
   "source": []
  },
  {
   "cell_type": "code",
   "execution_count": null,
   "metadata": {},
   "outputs": [],
   "source": []
  },
  {
   "cell_type": "code",
   "execution_count": null,
   "metadata": {},
   "outputs": [],
   "source": []
  },
  {
   "cell_type": "code",
   "execution_count": null,
   "metadata": {},
   "outputs": [],
   "source": []
  },
  {
   "cell_type": "code",
   "execution_count": null,
   "metadata": {},
   "outputs": [],
   "source": []
  },
  {
   "cell_type": "code",
   "execution_count": null,
   "metadata": {},
   "outputs": [],
   "source": []
  },
  {
   "cell_type": "code",
   "execution_count": null,
   "metadata": {},
   "outputs": [],
   "source": []
  },
  {
   "cell_type": "code",
   "execution_count": null,
   "metadata": {},
   "outputs": [],
   "source": []
  },
  {
   "cell_type": "code",
   "execution_count": null,
   "metadata": {},
   "outputs": [],
   "source": []
  },
  {
   "cell_type": "code",
   "execution_count": null,
   "metadata": {},
   "outputs": [],
   "source": []
  },
  {
   "cell_type": "code",
   "execution_count": null,
   "metadata": {},
   "outputs": [],
   "source": []
  }
 ],
 "metadata": {
  "kernelspec": {
   "display_name": "Python 3",
   "language": "python",
   "name": "python3"
  },
  "language_info": {
   "codemirror_mode": {
    "name": "ipython",
    "version": 3
   },
   "file_extension": ".py",
   "mimetype": "text/x-python",
   "name": "python",
   "nbconvert_exporter": "python",
   "pygments_lexer": "ipython3",
   "version": "3.8.5"
  }
 },
 "nbformat": 4,
 "nbformat_minor": 4
}
